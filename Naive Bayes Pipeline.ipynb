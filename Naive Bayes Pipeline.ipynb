{
 "cells": [
  {
   "cell_type": "code",
   "execution_count": 1,
   "metadata": {},
   "outputs": [],
   "source": [
    "#In logistic regression, values are >1 are 1 and <1 are 0."
   ]
  },
  {
   "cell_type": "code",
   "execution_count": 2,
   "metadata": {},
   "outputs": [],
   "source": [
    "#For logistic regression, apply sigmoid function on linear regression function"
   ]
  },
  {
   "cell_type": "code",
   "execution_count": 3,
   "metadata": {},
   "outputs": [],
   "source": [
    "#p=1/(1+e^-y)\n",
    "#ln(p/1-p)=m*x+c"
   ]
  },
  {
   "cell_type": "code",
   "execution_count": 4,
   "metadata": {},
   "outputs": [],
   "source": [
    "#This curves the graph a bit"
   ]
  },
  {
   "cell_type": "code",
   "execution_count": 5,
   "metadata": {},
   "outputs": [],
   "source": [
    "#Logistic Regression can only handle binary datasets"
   ]
  },
  {
   "cell_type": "code",
   "execution_count": 19,
   "metadata": {},
   "outputs": [],
   "source": [
    "import pandas as pd\n",
    "import numpy as np\n",
    "import matplotlib.pyplot as plt\n",
    "import seaborn as sns"
   ]
  },
  {
   "cell_type": "code",
   "execution_count": 22,
   "metadata": {},
   "outputs": [
    {
     "data": {
      "text/html": [
       "<div>\n",
       "<style scoped>\n",
       "    .dataframe tbody tr th:only-of-type {\n",
       "        vertical-align: middle;\n",
       "    }\n",
       "\n",
       "    .dataframe tbody tr th {\n",
       "        vertical-align: top;\n",
       "    }\n",
       "\n",
       "    .dataframe thead th {\n",
       "        text-align: right;\n",
       "    }\n",
       "</style>\n",
       "<table border=\"1\" class=\"dataframe\">\n",
       "  <thead>\n",
       "    <tr style=\"text-align: right;\">\n",
       "      <th></th>\n",
       "      <th>User ID</th>\n",
       "      <th>Gender</th>\n",
       "      <th>Age</th>\n",
       "      <th>EstimatedSalary</th>\n",
       "      <th>Purchased</th>\n",
       "    </tr>\n",
       "  </thead>\n",
       "  <tbody>\n",
       "    <tr>\n",
       "      <th>0</th>\n",
       "      <td>15624510</td>\n",
       "      <td>Male</td>\n",
       "      <td>19</td>\n",
       "      <td>19000</td>\n",
       "      <td>0</td>\n",
       "    </tr>\n",
       "    <tr>\n",
       "      <th>1</th>\n",
       "      <td>15810944</td>\n",
       "      <td>Male</td>\n",
       "      <td>35</td>\n",
       "      <td>20000</td>\n",
       "      <td>0</td>\n",
       "    </tr>\n",
       "    <tr>\n",
       "      <th>2</th>\n",
       "      <td>15668575</td>\n",
       "      <td>Female</td>\n",
       "      <td>26</td>\n",
       "      <td>43000</td>\n",
       "      <td>0</td>\n",
       "    </tr>\n",
       "    <tr>\n",
       "      <th>3</th>\n",
       "      <td>15603246</td>\n",
       "      <td>Female</td>\n",
       "      <td>27</td>\n",
       "      <td>57000</td>\n",
       "      <td>0</td>\n",
       "    </tr>\n",
       "    <tr>\n",
       "      <th>4</th>\n",
       "      <td>15804002</td>\n",
       "      <td>Male</td>\n",
       "      <td>19</td>\n",
       "      <td>76000</td>\n",
       "      <td>0</td>\n",
       "    </tr>\n",
       "    <tr>\n",
       "      <th>...</th>\n",
       "      <td>...</td>\n",
       "      <td>...</td>\n",
       "      <td>...</td>\n",
       "      <td>...</td>\n",
       "      <td>...</td>\n",
       "    </tr>\n",
       "    <tr>\n",
       "      <th>395</th>\n",
       "      <td>15691863</td>\n",
       "      <td>Female</td>\n",
       "      <td>46</td>\n",
       "      <td>41000</td>\n",
       "      <td>1</td>\n",
       "    </tr>\n",
       "    <tr>\n",
       "      <th>396</th>\n",
       "      <td>15706071</td>\n",
       "      <td>Male</td>\n",
       "      <td>51</td>\n",
       "      <td>23000</td>\n",
       "      <td>1</td>\n",
       "    </tr>\n",
       "    <tr>\n",
       "      <th>397</th>\n",
       "      <td>15654296</td>\n",
       "      <td>Female</td>\n",
       "      <td>50</td>\n",
       "      <td>20000</td>\n",
       "      <td>1</td>\n",
       "    </tr>\n",
       "    <tr>\n",
       "      <th>398</th>\n",
       "      <td>15755018</td>\n",
       "      <td>Male</td>\n",
       "      <td>36</td>\n",
       "      <td>33000</td>\n",
       "      <td>0</td>\n",
       "    </tr>\n",
       "    <tr>\n",
       "      <th>399</th>\n",
       "      <td>15594041</td>\n",
       "      <td>Female</td>\n",
       "      <td>49</td>\n",
       "      <td>36000</td>\n",
       "      <td>1</td>\n",
       "    </tr>\n",
       "  </tbody>\n",
       "</table>\n",
       "<p>400 rows × 5 columns</p>\n",
       "</div>"
      ],
      "text/plain": [
       "      User ID  Gender  Age  EstimatedSalary  Purchased\n",
       "0    15624510    Male   19            19000          0\n",
       "1    15810944    Male   35            20000          0\n",
       "2    15668575  Female   26            43000          0\n",
       "3    15603246  Female   27            57000          0\n",
       "4    15804002    Male   19            76000          0\n",
       "..        ...     ...  ...              ...        ...\n",
       "395  15691863  Female   46            41000          1\n",
       "396  15706071    Male   51            23000          1\n",
       "397  15654296  Female   50            20000          1\n",
       "398  15755018    Male   36            33000          0\n",
       "399  15594041  Female   49            36000          1\n",
       "\n",
       "[400 rows x 5 columns]"
      ]
     },
     "execution_count": 22,
     "metadata": {},
     "output_type": "execute_result"
    }
   ],
   "source": [
    "dataset=pd.read_csv('Social_Network_Ads.csv')\n",
    "dataset"
   ]
  },
  {
   "cell_type": "code",
   "execution_count": 24,
   "metadata": {},
   "outputs": [
    {
     "data": {
      "text/plain": [
       "False"
      ]
     },
     "execution_count": 24,
     "metadata": {},
     "output_type": "execute_result"
    }
   ],
   "source": [
    "dataset.isnull().any().any()"
   ]
  },
  {
   "cell_type": "code",
   "execution_count": 25,
   "metadata": {},
   "outputs": [
    {
     "data": {
      "text/html": [
       "<div>\n",
       "<style scoped>\n",
       "    .dataframe tbody tr th:only-of-type {\n",
       "        vertical-align: middle;\n",
       "    }\n",
       "\n",
       "    .dataframe tbody tr th {\n",
       "        vertical-align: top;\n",
       "    }\n",
       "\n",
       "    .dataframe thead th {\n",
       "        text-align: right;\n",
       "    }\n",
       "</style>\n",
       "<table border=\"1\" class=\"dataframe\">\n",
       "  <thead>\n",
       "    <tr style=\"text-align: right;\">\n",
       "      <th></th>\n",
       "      <th>Gender</th>\n",
       "      <th>Age</th>\n",
       "      <th>EstimatedSalary</th>\n",
       "      <th>Purchased</th>\n",
       "    </tr>\n",
       "  </thead>\n",
       "  <tbody>\n",
       "    <tr>\n",
       "      <th>0</th>\n",
       "      <td>Male</td>\n",
       "      <td>19</td>\n",
       "      <td>19000</td>\n",
       "      <td>0</td>\n",
       "    </tr>\n",
       "    <tr>\n",
       "      <th>1</th>\n",
       "      <td>Male</td>\n",
       "      <td>35</td>\n",
       "      <td>20000</td>\n",
       "      <td>0</td>\n",
       "    </tr>\n",
       "    <tr>\n",
       "      <th>2</th>\n",
       "      <td>Female</td>\n",
       "      <td>26</td>\n",
       "      <td>43000</td>\n",
       "      <td>0</td>\n",
       "    </tr>\n",
       "    <tr>\n",
       "      <th>3</th>\n",
       "      <td>Female</td>\n",
       "      <td>27</td>\n",
       "      <td>57000</td>\n",
       "      <td>0</td>\n",
       "    </tr>\n",
       "    <tr>\n",
       "      <th>4</th>\n",
       "      <td>Male</td>\n",
       "      <td>19</td>\n",
       "      <td>76000</td>\n",
       "      <td>0</td>\n",
       "    </tr>\n",
       "    <tr>\n",
       "      <th>...</th>\n",
       "      <td>...</td>\n",
       "      <td>...</td>\n",
       "      <td>...</td>\n",
       "      <td>...</td>\n",
       "    </tr>\n",
       "    <tr>\n",
       "      <th>395</th>\n",
       "      <td>Female</td>\n",
       "      <td>46</td>\n",
       "      <td>41000</td>\n",
       "      <td>1</td>\n",
       "    </tr>\n",
       "    <tr>\n",
       "      <th>396</th>\n",
       "      <td>Male</td>\n",
       "      <td>51</td>\n",
       "      <td>23000</td>\n",
       "      <td>1</td>\n",
       "    </tr>\n",
       "    <tr>\n",
       "      <th>397</th>\n",
       "      <td>Female</td>\n",
       "      <td>50</td>\n",
       "      <td>20000</td>\n",
       "      <td>1</td>\n",
       "    </tr>\n",
       "    <tr>\n",
       "      <th>398</th>\n",
       "      <td>Male</td>\n",
       "      <td>36</td>\n",
       "      <td>33000</td>\n",
       "      <td>0</td>\n",
       "    </tr>\n",
       "    <tr>\n",
       "      <th>399</th>\n",
       "      <td>Female</td>\n",
       "      <td>49</td>\n",
       "      <td>36000</td>\n",
       "      <td>1</td>\n",
       "    </tr>\n",
       "  </tbody>\n",
       "</table>\n",
       "<p>400 rows × 4 columns</p>\n",
       "</div>"
      ],
      "text/plain": [
       "     Gender  Age  EstimatedSalary  Purchased\n",
       "0      Male   19            19000          0\n",
       "1      Male   35            20000          0\n",
       "2    Female   26            43000          0\n",
       "3    Female   27            57000          0\n",
       "4      Male   19            76000          0\n",
       "..      ...  ...              ...        ...\n",
       "395  Female   46            41000          1\n",
       "396    Male   51            23000          1\n",
       "397  Female   50            20000          1\n",
       "398    Male   36            33000          0\n",
       "399  Female   49            36000          1\n",
       "\n",
       "[400 rows x 4 columns]"
      ]
     },
     "execution_count": 25,
     "metadata": {},
     "output_type": "execute_result"
    }
   ],
   "source": [
    "df=dataset.drop('User ID',axis=1)\n",
    "df"
   ]
  },
  {
   "cell_type": "code",
   "execution_count": 26,
   "metadata": {},
   "outputs": [
    {
     "data": {
      "text/plain": [
       "Female    204\n",
       "Male      196\n",
       "Name: Gender, dtype: int64"
      ]
     },
     "execution_count": 26,
     "metadata": {},
     "output_type": "execute_result"
    }
   ],
   "source": [
    "df['Gender'].value_counts()"
   ]
  },
  {
   "cell_type": "code",
   "execution_count": 27,
   "metadata": {},
   "outputs": [
    {
     "data": {
      "text/html": [
       "<div>\n",
       "<style scoped>\n",
       "    .dataframe tbody tr th:only-of-type {\n",
       "        vertical-align: middle;\n",
       "    }\n",
       "\n",
       "    .dataframe tbody tr th {\n",
       "        vertical-align: top;\n",
       "    }\n",
       "\n",
       "    .dataframe thead th {\n",
       "        text-align: right;\n",
       "    }\n",
       "</style>\n",
       "<table border=\"1\" class=\"dataframe\">\n",
       "  <thead>\n",
       "    <tr style=\"text-align: right;\">\n",
       "      <th></th>\n",
       "      <th>Gender</th>\n",
       "      <th>Age</th>\n",
       "      <th>EstimatedSalary</th>\n",
       "      <th>Purchased</th>\n",
       "    </tr>\n",
       "  </thead>\n",
       "  <tbody>\n",
       "    <tr>\n",
       "      <th>0</th>\n",
       "      <td>1</td>\n",
       "      <td>19</td>\n",
       "      <td>19000</td>\n",
       "      <td>0</td>\n",
       "    </tr>\n",
       "    <tr>\n",
       "      <th>1</th>\n",
       "      <td>1</td>\n",
       "      <td>35</td>\n",
       "      <td>20000</td>\n",
       "      <td>0</td>\n",
       "    </tr>\n",
       "    <tr>\n",
       "      <th>2</th>\n",
       "      <td>0</td>\n",
       "      <td>26</td>\n",
       "      <td>43000</td>\n",
       "      <td>0</td>\n",
       "    </tr>\n",
       "    <tr>\n",
       "      <th>3</th>\n",
       "      <td>0</td>\n",
       "      <td>27</td>\n",
       "      <td>57000</td>\n",
       "      <td>0</td>\n",
       "    </tr>\n",
       "    <tr>\n",
       "      <th>4</th>\n",
       "      <td>1</td>\n",
       "      <td>19</td>\n",
       "      <td>76000</td>\n",
       "      <td>0</td>\n",
       "    </tr>\n",
       "    <tr>\n",
       "      <th>...</th>\n",
       "      <td>...</td>\n",
       "      <td>...</td>\n",
       "      <td>...</td>\n",
       "      <td>...</td>\n",
       "    </tr>\n",
       "    <tr>\n",
       "      <th>395</th>\n",
       "      <td>0</td>\n",
       "      <td>46</td>\n",
       "      <td>41000</td>\n",
       "      <td>1</td>\n",
       "    </tr>\n",
       "    <tr>\n",
       "      <th>396</th>\n",
       "      <td>1</td>\n",
       "      <td>51</td>\n",
       "      <td>23000</td>\n",
       "      <td>1</td>\n",
       "    </tr>\n",
       "    <tr>\n",
       "      <th>397</th>\n",
       "      <td>0</td>\n",
       "      <td>50</td>\n",
       "      <td>20000</td>\n",
       "      <td>1</td>\n",
       "    </tr>\n",
       "    <tr>\n",
       "      <th>398</th>\n",
       "      <td>1</td>\n",
       "      <td>36</td>\n",
       "      <td>33000</td>\n",
       "      <td>0</td>\n",
       "    </tr>\n",
       "    <tr>\n",
       "      <th>399</th>\n",
       "      <td>0</td>\n",
       "      <td>49</td>\n",
       "      <td>36000</td>\n",
       "      <td>1</td>\n",
       "    </tr>\n",
       "  </tbody>\n",
       "</table>\n",
       "<p>400 rows × 4 columns</p>\n",
       "</div>"
      ],
      "text/plain": [
       "     Gender  Age  EstimatedSalary  Purchased\n",
       "0         1   19            19000          0\n",
       "1         1   35            20000          0\n",
       "2         0   26            43000          0\n",
       "3         0   27            57000          0\n",
       "4         1   19            76000          0\n",
       "..      ...  ...              ...        ...\n",
       "395       0   46            41000          1\n",
       "396       1   51            23000          1\n",
       "397       0   50            20000          1\n",
       "398       1   36            33000          0\n",
       "399       0   49            36000          1\n",
       "\n",
       "[400 rows x 4 columns]"
      ]
     },
     "execution_count": 27,
     "metadata": {},
     "output_type": "execute_result"
    }
   ],
   "source": [
    "from sklearn.preprocessing import LabelEncoder\n",
    "lb=LabelEncoder()\n",
    "df.iloc[:,0]=lb.fit_transform(df.iloc[:,0])\n",
    "df"
   ]
  },
  {
   "cell_type": "code",
   "execution_count": 28,
   "metadata": {},
   "outputs": [
    {
     "data": {
      "text/plain": [
       "array([[1.02020406, 1.78179743, 1.49004624, 0.74593581],\n",
       "       [1.02020406, 0.25358736, 1.46068138, 0.74593581],\n",
       "       [0.98019606, 1.11320552, 0.78528968, 0.74593581],\n",
       "       ...,\n",
       "       [0.98019606, 1.17910958, 1.46068138, 1.34059793],\n",
       "       [1.02020406, 0.15807423, 1.07893824, 0.74593581],\n",
       "       [0.98019606, 1.08359645, 0.99084367, 1.34059793]])"
      ]
     },
     "execution_count": 28,
     "metadata": {},
     "output_type": "execute_result"
    }
   ],
   "source": [
    "from scipy import stats\n",
    "z=np.abs(stats.zscore(df))\n",
    "z"
   ]
  },
  {
   "cell_type": "code",
   "execution_count": 29,
   "metadata": {},
   "outputs": [
    {
     "data": {
      "text/plain": [
       "(array([], dtype=int64), array([], dtype=int64))"
      ]
     },
     "execution_count": 29,
     "metadata": {},
     "output_type": "execute_result"
    }
   ],
   "source": [
    "threshold=3\n",
    "np.where(z>threshold)"
   ]
  },
  {
   "cell_type": "code",
   "execution_count": 30,
   "metadata": {},
   "outputs": [
    {
     "data": {
      "text/plain": [
       "array([[    1,    19, 19000],\n",
       "       [    1,    35, 20000],\n",
       "       [    0,    26, 43000],\n",
       "       ...,\n",
       "       [    0,    50, 20000],\n",
       "       [    1,    36, 33000],\n",
       "       [    0,    49, 36000]], dtype=int64)"
      ]
     },
     "execution_count": 30,
     "metadata": {},
     "output_type": "execute_result"
    }
   ],
   "source": [
    "x=df.iloc[:,0:3].values\n",
    "x"
   ]
  },
  {
   "cell_type": "code",
   "execution_count": 31,
   "metadata": {},
   "outputs": [
    {
     "data": {
      "text/plain": [
       "array([0, 0, 0, 0, 0, 0, 0, 1, 0, 0, 0, 0, 0, 0, 0, 0, 1, 1, 1, 1, 1, 1,\n",
       "       1, 1, 1, 1, 1, 1, 0, 0, 0, 1, 0, 0, 0, 0, 0, 0, 0, 0, 0, 0, 0, 0,\n",
       "       0, 0, 0, 0, 1, 0, 0, 0, 0, 0, 0, 0, 0, 0, 0, 0, 0, 0, 0, 1, 0, 0,\n",
       "       0, 0, 0, 0, 0, 0, 0, 0, 0, 1, 0, 0, 0, 0, 0, 0, 0, 0, 0, 1, 0, 0,\n",
       "       0, 0, 0, 0, 0, 0, 0, 0, 0, 1, 0, 0, 0, 0, 0, 1, 0, 0, 0, 0, 0, 0,\n",
       "       0, 0, 0, 0, 0, 0, 0, 0, 0, 0, 0, 0, 0, 0, 0, 0, 0, 0, 0, 0, 0, 0,\n",
       "       0, 0, 0, 0, 0, 1, 0, 0, 0, 0, 0, 0, 0, 0, 1, 0, 0, 0, 0, 0, 0, 0,\n",
       "       0, 0, 0, 0, 0, 1, 1, 0, 0, 0, 0, 0, 0, 0, 1, 0, 0, 0, 0, 0, 0, 0,\n",
       "       0, 0, 0, 0, 0, 0, 1, 0, 0, 0, 0, 0, 0, 0, 0, 0, 0, 0, 0, 0, 0, 0,\n",
       "       0, 0, 0, 0, 1, 0, 1, 0, 1, 0, 1, 0, 1, 1, 0, 0, 0, 1, 0, 0, 0, 1,\n",
       "       0, 1, 1, 1, 0, 0, 1, 1, 0, 1, 1, 0, 1, 1, 0, 1, 0, 0, 0, 1, 1, 0,\n",
       "       1, 1, 0, 1, 0, 1, 0, 1, 0, 0, 1, 1, 0, 1, 0, 0, 1, 1, 0, 1, 1, 0,\n",
       "       1, 1, 0, 0, 1, 0, 0, 1, 1, 1, 1, 1, 0, 1, 1, 1, 1, 0, 1, 1, 0, 1,\n",
       "       0, 1, 0, 1, 1, 1, 1, 0, 0, 0, 1, 1, 0, 1, 1, 1, 1, 1, 0, 0, 0, 1,\n",
       "       1, 0, 0, 1, 0, 1, 0, 1, 1, 0, 1, 0, 1, 1, 0, 1, 1, 0, 0, 0, 1, 1,\n",
       "       0, 1, 0, 0, 1, 0, 1, 0, 0, 1, 1, 0, 0, 1, 1, 0, 1, 1, 0, 0, 1, 0,\n",
       "       1, 0, 1, 1, 1, 0, 1, 0, 1, 1, 1, 0, 1, 1, 1, 1, 0, 1, 1, 1, 0, 1,\n",
       "       0, 1, 0, 0, 1, 1, 0, 1, 1, 1, 1, 1, 1, 0, 1, 1, 1, 1, 1, 1, 0, 1,\n",
       "       1, 1, 0, 1], dtype=int64)"
      ]
     },
     "execution_count": 31,
     "metadata": {},
     "output_type": "execute_result"
    }
   ],
   "source": [
    "y=df.iloc[:,-1].values\n",
    "y"
   ]
  },
  {
   "cell_type": "code",
   "execution_count": 16,
   "metadata": {},
   "outputs": [],
   "source": [
    "#Normalization->Good practice(less variation between independent variables)"
   ]
  },
  {
   "cell_type": "code",
   "execution_count": 17,
   "metadata": {},
   "outputs": [],
   "source": [
    "#Normalization using standard scalar"
   ]
  },
  {
   "cell_type": "code",
   "execution_count": 32,
   "metadata": {},
   "outputs": [],
   "source": [
    "from sklearn.model_selection import train_test_split\n",
    "x_train,x_test,y_train,y_test=train_test_split(x,y,test_size=0.2,random_state=0)"
   ]
  },
  {
   "cell_type": "code",
   "execution_count": 37,
   "metadata": {},
   "outputs": [
    {
     "data": {
      "text/plain": [
       "array([[     1,     58, 144000],\n",
       "       [     0,     59,  83000],\n",
       "       [     0,     24,  55000],\n",
       "       [     0,     26,  35000],\n",
       "       [     0,     58,  38000],\n",
       "       [     0,     42,  80000],\n",
       "       [     0,     40,  75000],\n",
       "       [     1,     59, 130000],\n",
       "       [     0,     46,  41000],\n",
       "       [     0,     41,  60000],\n",
       "       [     1,     42,  64000],\n",
       "       [     0,     37, 146000],\n",
       "       [     0,     23,  48000],\n",
       "       [     1,     25,  33000],\n",
       "       [     1,     24,  84000],\n",
       "       [     0,     27,  96000],\n",
       "       [     1,     23,  63000],\n",
       "       [     1,     48,  33000],\n",
       "       [     1,     48,  90000],\n",
       "       [     1,     42, 104000],\n",
       "       [     0,     44,  39000],\n",
       "       [     1,     32, 120000],\n",
       "       [     0,     38,  50000],\n",
       "       [     0,     32, 135000],\n",
       "       [     0,     52,  21000],\n",
       "       [     0,     53, 104000],\n",
       "       [     1,     39,  42000],\n",
       "       [     1,     38,  61000],\n",
       "       [     0,     36,  50000],\n",
       "       [     0,     36,  63000],\n",
       "       [     0,     35,  25000],\n",
       "       [     1,     35,  50000],\n",
       "       [     1,     42,  73000],\n",
       "       [     0,     47,  49000],\n",
       "       [     0,     59,  29000],\n",
       "       [     1,     49,  65000],\n",
       "       [     0,     45, 131000],\n",
       "       [     0,     31,  89000],\n",
       "       [     0,     46,  82000],\n",
       "       [     0,     47,  51000],\n",
       "       [     1,     26,  15000],\n",
       "       [     1,     60, 102000],\n",
       "       [     0,     38, 112000],\n",
       "       [     1,     40, 107000],\n",
       "       [     0,     42,  53000],\n",
       "       [     1,     35,  59000],\n",
       "       [     1,     48,  41000],\n",
       "       [     0,     48, 134000],\n",
       "       [     0,     38, 113000],\n",
       "       [     1,     29, 148000],\n",
       "       [     0,     26,  15000],\n",
       "       [     1,     60,  42000],\n",
       "       [     1,     24,  19000],\n",
       "       [     1,     42, 149000],\n",
       "       [     0,     46,  96000],\n",
       "       [     1,     28,  59000],\n",
       "       [     1,     39,  96000],\n",
       "       [     1,     28,  89000],\n",
       "       [     1,     41,  72000],\n",
       "       [     1,     45,  26000],\n",
       "       [     0,     33,  69000],\n",
       "       [     0,     20,  82000],\n",
       "       [     1,     31,  74000],\n",
       "       [     1,     42,  80000],\n",
       "       [     0,     35,  72000],\n",
       "       [     0,     33, 149000],\n",
       "       [     1,     40,  71000],\n",
       "       [     0,     51, 146000],\n",
       "       [     1,     46,  79000],\n",
       "       [     1,     35,  75000],\n",
       "       [     1,     38,  51000],\n",
       "       [     0,     36,  75000],\n",
       "       [     0,     37,  78000],\n",
       "       [     1,     38,  61000],\n",
       "       [     0,     60, 108000],\n",
       "       [     0,     20,  82000],\n",
       "       [     1,     57,  74000],\n",
       "       [     1,     42,  65000],\n",
       "       [     1,     26,  80000],\n",
       "       [     1,     46, 117000],\n",
       "       [     1,     35,  61000],\n",
       "       [     0,     21,  68000],\n",
       "       [     0,     28,  44000],\n",
       "       [     1,     41,  87000],\n",
       "       [     0,     37,  33000],\n",
       "       [     1,     27,  90000],\n",
       "       [     1,     39,  42000],\n",
       "       [     1,     28, 123000],\n",
       "       [     0,     31, 118000],\n",
       "       [     1,     25,  87000],\n",
       "       [     0,     35,  71000],\n",
       "       [     1,     37,  70000],\n",
       "       [     1,     35,  39000],\n",
       "       [     1,     47,  23000],\n",
       "       [     0,     35, 147000],\n",
       "       [     0,     48, 138000],\n",
       "       [     1,     26,  86000],\n",
       "       [     1,     25,  79000],\n",
       "       [     0,     52, 138000],\n",
       "       [     1,     51,  23000],\n",
       "       [     0,     35,  60000],\n",
       "       [     0,     33, 113000],\n",
       "       [     1,     30, 107000],\n",
       "       [     1,     48,  33000],\n",
       "       [     0,     41,  80000],\n",
       "       [     0,     48,  96000],\n",
       "       [     1,     31,  18000],\n",
       "       [     0,     31,  71000],\n",
       "       [     1,     43, 129000],\n",
       "       [     0,     59,  76000],\n",
       "       [     0,     18,  44000],\n",
       "       [     1,     36, 118000],\n",
       "       [     0,     42,  90000],\n",
       "       [     0,     47,  30000],\n",
       "       [     0,     26,  43000],\n",
       "       [     1,     40,  78000],\n",
       "       [     1,     46,  59000],\n",
       "       [     0,     59,  42000],\n",
       "       [     0,     46,  74000],\n",
       "       [     1,     35,  91000],\n",
       "       [     0,     28,  59000],\n",
       "       [     1,     40,  57000],\n",
       "       [     1,     59, 143000],\n",
       "       [     0,     57,  26000],\n",
       "       [     0,     52,  38000],\n",
       "       [     0,     47, 113000],\n",
       "       [     0,     53, 143000],\n",
       "       [     1,     35,  27000],\n",
       "       [     0,     58, 101000],\n",
       "       [     0,     45,  45000],\n",
       "       [     0,     23,  82000],\n",
       "       [     1,     46,  23000],\n",
       "       [     1,     42,  65000],\n",
       "       [     0,     28,  84000],\n",
       "       [     1,     38,  59000],\n",
       "       [     0,     26,  84000],\n",
       "       [     0,     29,  28000],\n",
       "       [     0,     37,  71000],\n",
       "       [     0,     22,  55000],\n",
       "       [     0,     48,  35000],\n",
       "       [     1,     49,  28000],\n",
       "       [     0,     38,  65000],\n",
       "       [     0,     27,  17000],\n",
       "       [     1,     46,  28000],\n",
       "       [     1,     48, 141000],\n",
       "       [     0,     26,  17000],\n",
       "       [     0,     35,  97000],\n",
       "       [     0,     39,  59000],\n",
       "       [     0,     24,  27000],\n",
       "       [     1,     32,  18000],\n",
       "       [     1,     46,  88000],\n",
       "       [     1,     35,  58000],\n",
       "       [     1,     56,  60000],\n",
       "       [     1,     47,  34000],\n",
       "       [     0,     40,  72000],\n",
       "       [     1,     32, 100000],\n",
       "       [     0,     19,  21000],\n",
       "       [     1,     25,  90000],\n",
       "       [     1,     35,  88000],\n",
       "       [     1,     28,  32000],\n",
       "       [     0,     50,  20000],\n",
       "       [     1,     40,  59000],\n",
       "       [     0,     50,  44000],\n",
       "       [     1,     35,  72000],\n",
       "       [     0,     40, 142000],\n",
       "       [     0,     46,  32000],\n",
       "       [     0,     39,  71000],\n",
       "       [     1,     20,  74000],\n",
       "       [     1,     29,  75000],\n",
       "       [     1,     31,  76000],\n",
       "       [     1,     47,  25000],\n",
       "       [     1,     40,  61000],\n",
       "       [     1,     34, 112000],\n",
       "       [     0,     38,  80000],\n",
       "       [     0,     42,  75000],\n",
       "       [     0,     47,  47000],\n",
       "       [     0,     39,  75000],\n",
       "       [     1,     19,  25000],\n",
       "       [     0,     37,  80000],\n",
       "       [     1,     36,  60000],\n",
       "       [     1,     41,  52000],\n",
       "       [     1,     36, 125000],\n",
       "       [     0,     48,  29000],\n",
       "       [     0,     36, 126000],\n",
       "       [     0,     51, 134000],\n",
       "       [     0,     27,  57000],\n",
       "       [     1,     38,  71000],\n",
       "       [     0,     39,  61000],\n",
       "       [     0,     22,  27000],\n",
       "       [     0,     33,  60000],\n",
       "       [     1,     48,  74000],\n",
       "       [     0,     58,  23000],\n",
       "       [     1,     53,  72000],\n",
       "       [     0,     32, 117000],\n",
       "       [     1,     54,  70000],\n",
       "       [     1,     30,  80000],\n",
       "       [     0,     58,  95000],\n",
       "       [     0,     26,  52000],\n",
       "       [     1,     45,  79000],\n",
       "       [     1,     24,  55000],\n",
       "       [     1,     40,  75000],\n",
       "       [     0,     33,  28000],\n",
       "       [     0,     44, 139000],\n",
       "       [     1,     22,  18000],\n",
       "       [     0,     33,  51000],\n",
       "       [     0,     43, 133000],\n",
       "       [     0,     24,  32000],\n",
       "       [     0,     46,  22000],\n",
       "       [     1,     35,  55000],\n",
       "       [     0,     54, 104000],\n",
       "       [     0,     48, 119000],\n",
       "       [     1,     35,  53000],\n",
       "       [     1,     37, 144000],\n",
       "       [     0,     23,  66000],\n",
       "       [     0,     37, 137000],\n",
       "       [     1,     31,  58000],\n",
       "       [     0,     33,  41000],\n",
       "       [     0,     45,  22000],\n",
       "       [     1,     30,  15000],\n",
       "       [     1,     19,  19000],\n",
       "       [     1,     49,  74000],\n",
       "       [     1,     39, 122000],\n",
       "       [     1,     35,  73000],\n",
       "       [     1,     39,  71000],\n",
       "       [     1,     24,  23000],\n",
       "       [     0,     41,  72000],\n",
       "       [     0,     29,  83000],\n",
       "       [     0,     54,  26000],\n",
       "       [     0,     35,  44000],\n",
       "       [     1,     37,  75000],\n",
       "       [     0,     29,  47000],\n",
       "       [     0,     31,  68000],\n",
       "       [     1,     42,  54000],\n",
       "       [     1,     30, 135000],\n",
       "       [     0,     52, 114000],\n",
       "       [     0,     50,  36000],\n",
       "       [     1,     56, 133000],\n",
       "       [     1,     29,  61000],\n",
       "       [     1,     30,  89000],\n",
       "       [     1,     26,  16000],\n",
       "       [     1,     33,  31000],\n",
       "       [     0,     41,  72000],\n",
       "       [     1,     36,  33000],\n",
       "       [     0,     55, 125000],\n",
       "       [     0,     48, 131000],\n",
       "       [     0,     41,  71000],\n",
       "       [     0,     30,  62000],\n",
       "       [     1,     37,  72000],\n",
       "       [     0,     41,  63000],\n",
       "       [     0,     58,  47000],\n",
       "       [     0,     30, 116000],\n",
       "       [     1,     20,  49000],\n",
       "       [     1,     37,  74000],\n",
       "       [     1,     41,  59000],\n",
       "       [     1,     49,  89000],\n",
       "       [     1,     28,  79000],\n",
       "       [     0,     53,  82000],\n",
       "       [     1,     40,  57000],\n",
       "       [     1,     60,  34000],\n",
       "       [     1,     35, 108000],\n",
       "       [     1,     21,  72000],\n",
       "       [     1,     38,  71000],\n",
       "       [     1,     39, 106000],\n",
       "       [     0,     37,  57000],\n",
       "       [     0,     26,  72000],\n",
       "       [     0,     35,  23000],\n",
       "       [     0,     54, 108000],\n",
       "       [     1,     30,  17000],\n",
       "       [     1,     39, 134000],\n",
       "       [     1,     29,  43000],\n",
       "       [     1,     33,  43000],\n",
       "       [     1,     35,  38000],\n",
       "       [     1,     41,  45000],\n",
       "       [     0,     41,  72000],\n",
       "       [     0,     39, 134000],\n",
       "       [     0,     27, 137000],\n",
       "       [     0,     21,  16000],\n",
       "       [     1,     26,  32000],\n",
       "       [     1,     31,  66000],\n",
       "       [     0,     39,  73000],\n",
       "       [     1,     41,  79000],\n",
       "       [     0,     47,  50000],\n",
       "       [     0,     41,  30000],\n",
       "       [     0,     37,  93000],\n",
       "       [     0,     60,  46000],\n",
       "       [     1,     25,  22000],\n",
       "       [     0,     28,  37000],\n",
       "       [     0,     38,  55000],\n",
       "       [     0,     36,  54000],\n",
       "       [     0,     20,  36000],\n",
       "       [     0,     56, 104000],\n",
       "       [     1,     40,  57000],\n",
       "       [     0,     42, 108000],\n",
       "       [     0,     20,  23000],\n",
       "       [     1,     40,  65000],\n",
       "       [     1,     47,  20000],\n",
       "       [     0,     18,  86000],\n",
       "       [     1,     35,  79000],\n",
       "       [     0,     57,  33000],\n",
       "       [     0,     34,  72000],\n",
       "       [     0,     49,  39000],\n",
       "       [     0,     27,  31000],\n",
       "       [     1,     19,  70000],\n",
       "       [     0,     39,  79000],\n",
       "       [     1,     26,  81000],\n",
       "       [     1,     25,  80000],\n",
       "       [     0,     28,  85000],\n",
       "       [     1,     55,  39000],\n",
       "       [     0,     50,  88000],\n",
       "       [     1,     49,  88000],\n",
       "       [     1,     52, 150000],\n",
       "       [     0,     35,  65000],\n",
       "       [     1,     42,  54000],\n",
       "       [     1,     34,  43000],\n",
       "       [     1,     37,  52000],\n",
       "       [     0,     48,  30000],\n",
       "       [     1,     29,  43000],\n",
       "       [     1,     36,  52000],\n",
       "       [     0,     27,  54000],\n",
       "       [     0,     26, 118000]], dtype=int64)"
      ]
     },
     "execution_count": 37,
     "metadata": {},
     "output_type": "execute_result"
    }
   ],
   "source": [
    "x_train"
   ]
  },
  {
   "cell_type": "code",
   "execution_count": 33,
   "metadata": {},
   "outputs": [],
   "source": [
    "#connecting multiple steps is pipelining"
   ]
  },
  {
   "cell_type": "code",
   "execution_count": null,
   "metadata": {},
   "outputs": [],
   "source": [
    "#Pipeline"
   ]
  },
  {
   "cell_type": "code",
   "execution_count": 34,
   "metadata": {},
   "outputs": [],
   "source": [
    "from sklearn.pipeline import Pipeline\n",
    "from sklearn.preprocessing import MinMaxScaler\n",
    "from sklearn.naive_bayes import GaussianNB"
   ]
  },
  {
   "cell_type": "code",
   "execution_count": 35,
   "metadata": {},
   "outputs": [],
   "source": [
    "pipe = Pipeline([(\"mn\",MinMaxScaler()),(\"nb\",GaussianNB())])"
   ]
  },
  {
   "cell_type": "code",
   "execution_count": 36,
   "metadata": {},
   "outputs": [
    {
     "data": {
      "text/plain": [
       "Pipeline(steps=[('mn', MinMaxScaler()), ('nb', GaussianNB())])"
      ]
     },
     "execution_count": 36,
     "metadata": {},
     "output_type": "execute_result"
    }
   ],
   "source": [
    "pipe.fit(x_train,y_train)"
   ]
  },
  {
   "cell_type": "code",
   "execution_count": 38,
   "metadata": {},
   "outputs": [],
   "source": [
    "#Our trained data just predict x_test"
   ]
  },
  {
   "cell_type": "code",
   "execution_count": 39,
   "metadata": {},
   "outputs": [
    {
     "data": {
      "text/plain": [
       "array([0, 0, 0, 0, 0, 0, 0, 1, 0, 0, 0, 0, 0, 0, 0, 1, 0, 0, 1, 0, 0, 1,\n",
       "       0, 1, 0, 1, 0, 0, 0, 0, 0, 0, 1, 0, 0, 0, 0, 0, 0, 1, 0, 0, 0, 0,\n",
       "       1, 0, 0, 1, 0, 1, 1, 0, 0, 1, 1, 0, 0, 0, 1, 0, 0, 1, 0, 0, 0, 1,\n",
       "       0, 0, 0, 0, 1, 0, 0, 0, 0, 0, 0, 0, 1, 1], dtype=int64)"
      ]
     },
     "execution_count": 39,
     "metadata": {},
     "output_type": "execute_result"
    }
   ],
   "source": [
    "y_pred=pipe.predict(x_test)\n",
    "y_pred"
   ]
  },
  {
   "cell_type": "code",
   "execution_count": 40,
   "metadata": {},
   "outputs": [
    {
     "data": {
      "text/plain": [
       "0.925"
      ]
     },
     "execution_count": 40,
     "metadata": {},
     "output_type": "execute_result"
    }
   ],
   "source": [
    "from sklearn.metrics import accuracy_score\n",
    "accuracy_score(y_test,y_pred)"
   ]
  },
  {
   "cell_type": "code",
   "execution_count": 41,
   "metadata": {},
   "outputs": [
    {
     "data": {
      "text/plain": [
       "array([1], dtype=int64)"
      ]
     },
     "execution_count": 41,
     "metadata": {},
     "output_type": "execute_result"
    }
   ],
   "source": [
    "pipe.predict([[0,49,50000]])"
   ]
  },
  {
   "cell_type": "code",
   "execution_count": 42,
   "metadata": {},
   "outputs": [],
   "source": [
    "#Pipeline can be used for any algorithm"
   ]
  },
  {
   "cell_type": "code",
   "execution_count": null,
   "metadata": {},
   "outputs": [],
   "source": [
    "#standardscaler"
   ]
  }
 ],
 "metadata": {
  "kernelspec": {
   "display_name": "Python 3",
   "language": "python",
   "name": "python3"
  },
  "language_info": {
   "codemirror_mode": {
    "name": "ipython",
    "version": 3
   },
   "file_extension": ".py",
   "mimetype": "text/x-python",
   "name": "python",
   "nbconvert_exporter": "python",
   "pygments_lexer": "ipython3",
   "version": "3.8.3"
  }
 },
 "nbformat": 4,
 "nbformat_minor": 4
}
