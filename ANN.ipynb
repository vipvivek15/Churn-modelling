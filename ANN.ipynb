{
 "cells": [
  {
   "cell_type": "code",
   "execution_count": 1,
   "metadata": {},
   "outputs": [],
   "source": [
    "import pandas as pd\n",
    "import numpy as np\n",
    "import matplotlib.pyplot as plt\n",
    "import seaborn as sns"
   ]
  },
  {
   "cell_type": "code",
   "execution_count": 2,
   "metadata": {},
   "outputs": [
    {
     "data": {
      "text/html": [
       "<div>\n",
       "<style scoped>\n",
       "    .dataframe tbody tr th:only-of-type {\n",
       "        vertical-align: middle;\n",
       "    }\n",
       "\n",
       "    .dataframe tbody tr th {\n",
       "        vertical-align: top;\n",
       "    }\n",
       "\n",
       "    .dataframe thead th {\n",
       "        text-align: right;\n",
       "    }\n",
       "</style>\n",
       "<table border=\"1\" class=\"dataframe\">\n",
       "  <thead>\n",
       "    <tr style=\"text-align: right;\">\n",
       "      <th></th>\n",
       "      <th>RowNumber</th>\n",
       "      <th>CustomerId</th>\n",
       "      <th>Surname</th>\n",
       "      <th>CreditScore</th>\n",
       "      <th>Geography</th>\n",
       "      <th>Gender</th>\n",
       "      <th>Age</th>\n",
       "      <th>Tenure</th>\n",
       "      <th>Balance</th>\n",
       "      <th>NumOfProducts</th>\n",
       "      <th>HasCrCard</th>\n",
       "      <th>IsActiveMember</th>\n",
       "      <th>EstimatedSalary</th>\n",
       "      <th>Exited</th>\n",
       "    </tr>\n",
       "  </thead>\n",
       "  <tbody>\n",
       "    <tr>\n",
       "      <th>0</th>\n",
       "      <td>1</td>\n",
       "      <td>15634602</td>\n",
       "      <td>Hargrave</td>\n",
       "      <td>619</td>\n",
       "      <td>France</td>\n",
       "      <td>Female</td>\n",
       "      <td>42</td>\n",
       "      <td>2</td>\n",
       "      <td>0.00</td>\n",
       "      <td>1</td>\n",
       "      <td>1</td>\n",
       "      <td>1</td>\n",
       "      <td>101348.88</td>\n",
       "      <td>1</td>\n",
       "    </tr>\n",
       "    <tr>\n",
       "      <th>1</th>\n",
       "      <td>2</td>\n",
       "      <td>15647311</td>\n",
       "      <td>Hill</td>\n",
       "      <td>608</td>\n",
       "      <td>Spain</td>\n",
       "      <td>Female</td>\n",
       "      <td>41</td>\n",
       "      <td>1</td>\n",
       "      <td>83807.86</td>\n",
       "      <td>1</td>\n",
       "      <td>0</td>\n",
       "      <td>1</td>\n",
       "      <td>112542.58</td>\n",
       "      <td>0</td>\n",
       "    </tr>\n",
       "    <tr>\n",
       "      <th>2</th>\n",
       "      <td>3</td>\n",
       "      <td>15619304</td>\n",
       "      <td>Onio</td>\n",
       "      <td>502</td>\n",
       "      <td>France</td>\n",
       "      <td>Female</td>\n",
       "      <td>42</td>\n",
       "      <td>8</td>\n",
       "      <td>159660.80</td>\n",
       "      <td>3</td>\n",
       "      <td>1</td>\n",
       "      <td>0</td>\n",
       "      <td>113931.57</td>\n",
       "      <td>1</td>\n",
       "    </tr>\n",
       "    <tr>\n",
       "      <th>3</th>\n",
       "      <td>4</td>\n",
       "      <td>15701354</td>\n",
       "      <td>Boni</td>\n",
       "      <td>699</td>\n",
       "      <td>France</td>\n",
       "      <td>Female</td>\n",
       "      <td>39</td>\n",
       "      <td>1</td>\n",
       "      <td>0.00</td>\n",
       "      <td>2</td>\n",
       "      <td>0</td>\n",
       "      <td>0</td>\n",
       "      <td>93826.63</td>\n",
       "      <td>0</td>\n",
       "    </tr>\n",
       "    <tr>\n",
       "      <th>4</th>\n",
       "      <td>5</td>\n",
       "      <td>15737888</td>\n",
       "      <td>Mitchell</td>\n",
       "      <td>850</td>\n",
       "      <td>Spain</td>\n",
       "      <td>Female</td>\n",
       "      <td>43</td>\n",
       "      <td>2</td>\n",
       "      <td>125510.82</td>\n",
       "      <td>1</td>\n",
       "      <td>1</td>\n",
       "      <td>1</td>\n",
       "      <td>79084.10</td>\n",
       "      <td>0</td>\n",
       "    </tr>\n",
       "    <tr>\n",
       "      <th>...</th>\n",
       "      <td>...</td>\n",
       "      <td>...</td>\n",
       "      <td>...</td>\n",
       "      <td>...</td>\n",
       "      <td>...</td>\n",
       "      <td>...</td>\n",
       "      <td>...</td>\n",
       "      <td>...</td>\n",
       "      <td>...</td>\n",
       "      <td>...</td>\n",
       "      <td>...</td>\n",
       "      <td>...</td>\n",
       "      <td>...</td>\n",
       "      <td>...</td>\n",
       "    </tr>\n",
       "    <tr>\n",
       "      <th>9995</th>\n",
       "      <td>9996</td>\n",
       "      <td>15606229</td>\n",
       "      <td>Obijiaku</td>\n",
       "      <td>771</td>\n",
       "      <td>France</td>\n",
       "      <td>Male</td>\n",
       "      <td>39</td>\n",
       "      <td>5</td>\n",
       "      <td>0.00</td>\n",
       "      <td>2</td>\n",
       "      <td>1</td>\n",
       "      <td>0</td>\n",
       "      <td>96270.64</td>\n",
       "      <td>0</td>\n",
       "    </tr>\n",
       "    <tr>\n",
       "      <th>9996</th>\n",
       "      <td>9997</td>\n",
       "      <td>15569892</td>\n",
       "      <td>Johnstone</td>\n",
       "      <td>516</td>\n",
       "      <td>France</td>\n",
       "      <td>Male</td>\n",
       "      <td>35</td>\n",
       "      <td>10</td>\n",
       "      <td>57369.61</td>\n",
       "      <td>1</td>\n",
       "      <td>1</td>\n",
       "      <td>1</td>\n",
       "      <td>101699.77</td>\n",
       "      <td>0</td>\n",
       "    </tr>\n",
       "    <tr>\n",
       "      <th>9997</th>\n",
       "      <td>9998</td>\n",
       "      <td>15584532</td>\n",
       "      <td>Liu</td>\n",
       "      <td>709</td>\n",
       "      <td>France</td>\n",
       "      <td>Female</td>\n",
       "      <td>36</td>\n",
       "      <td>7</td>\n",
       "      <td>0.00</td>\n",
       "      <td>1</td>\n",
       "      <td>0</td>\n",
       "      <td>1</td>\n",
       "      <td>42085.58</td>\n",
       "      <td>1</td>\n",
       "    </tr>\n",
       "    <tr>\n",
       "      <th>9998</th>\n",
       "      <td>9999</td>\n",
       "      <td>15682355</td>\n",
       "      <td>Sabbatini</td>\n",
       "      <td>772</td>\n",
       "      <td>Germany</td>\n",
       "      <td>Male</td>\n",
       "      <td>42</td>\n",
       "      <td>3</td>\n",
       "      <td>75075.31</td>\n",
       "      <td>2</td>\n",
       "      <td>1</td>\n",
       "      <td>0</td>\n",
       "      <td>92888.52</td>\n",
       "      <td>1</td>\n",
       "    </tr>\n",
       "    <tr>\n",
       "      <th>9999</th>\n",
       "      <td>10000</td>\n",
       "      <td>15628319</td>\n",
       "      <td>Walker</td>\n",
       "      <td>792</td>\n",
       "      <td>France</td>\n",
       "      <td>Female</td>\n",
       "      <td>28</td>\n",
       "      <td>4</td>\n",
       "      <td>130142.79</td>\n",
       "      <td>1</td>\n",
       "      <td>1</td>\n",
       "      <td>0</td>\n",
       "      <td>38190.78</td>\n",
       "      <td>0</td>\n",
       "    </tr>\n",
       "  </tbody>\n",
       "</table>\n",
       "<p>10000 rows × 14 columns</p>\n",
       "</div>"
      ],
      "text/plain": [
       "      RowNumber  CustomerId    Surname  CreditScore Geography  Gender  Age  \\\n",
       "0             1    15634602   Hargrave          619    France  Female   42   \n",
       "1             2    15647311       Hill          608     Spain  Female   41   \n",
       "2             3    15619304       Onio          502    France  Female   42   \n",
       "3             4    15701354       Boni          699    France  Female   39   \n",
       "4             5    15737888   Mitchell          850     Spain  Female   43   \n",
       "...         ...         ...        ...          ...       ...     ...  ...   \n",
       "9995       9996    15606229   Obijiaku          771    France    Male   39   \n",
       "9996       9997    15569892  Johnstone          516    France    Male   35   \n",
       "9997       9998    15584532        Liu          709    France  Female   36   \n",
       "9998       9999    15682355  Sabbatini          772   Germany    Male   42   \n",
       "9999      10000    15628319     Walker          792    France  Female   28   \n",
       "\n",
       "      Tenure    Balance  NumOfProducts  HasCrCard  IsActiveMember  \\\n",
       "0          2       0.00              1          1               1   \n",
       "1          1   83807.86              1          0               1   \n",
       "2          8  159660.80              3          1               0   \n",
       "3          1       0.00              2          0               0   \n",
       "4          2  125510.82              1          1               1   \n",
       "...      ...        ...            ...        ...             ...   \n",
       "9995       5       0.00              2          1               0   \n",
       "9996      10   57369.61              1          1               1   \n",
       "9997       7       0.00              1          0               1   \n",
       "9998       3   75075.31              2          1               0   \n",
       "9999       4  130142.79              1          1               0   \n",
       "\n",
       "      EstimatedSalary  Exited  \n",
       "0           101348.88       1  \n",
       "1           112542.58       0  \n",
       "2           113931.57       1  \n",
       "3            93826.63       0  \n",
       "4            79084.10       0  \n",
       "...               ...     ...  \n",
       "9995         96270.64       0  \n",
       "9996        101699.77       0  \n",
       "9997         42085.58       1  \n",
       "9998         92888.52       1  \n",
       "9999         38190.78       0  \n",
       "\n",
       "[10000 rows x 14 columns]"
      ]
     },
     "execution_count": 2,
     "metadata": {},
     "output_type": "execute_result"
    }
   ],
   "source": [
    "dataset=pd.read_csv('Churn_Modelling.csv')\n",
    "dataset"
   ]
  },
  {
   "cell_type": "code",
   "execution_count": 3,
   "metadata": {
    "scrolled": true
   },
   "outputs": [
    {
     "data": {
      "text/plain": [
       "False"
      ]
     },
     "execution_count": 3,
     "metadata": {},
     "output_type": "execute_result"
    }
   ],
   "source": [
    "dataset.isnull().any().any()"
   ]
  },
  {
   "cell_type": "code",
   "execution_count": null,
   "metadata": {},
   "outputs": [],
   "source": [
    "Remove outliers after label encoding."
   ]
  },
  {
   "cell_type": "code",
   "execution_count": 4,
   "metadata": {
    "scrolled": true
   },
   "outputs": [
    {
     "data": {
      "text/plain": [
       "array([[619, 'France', 'Female', ..., 1, 1, 101348.88],\n",
       "       [608, 'Spain', 'Female', ..., 0, 1, 112542.58],\n",
       "       [502, 'France', 'Female', ..., 1, 0, 113931.57],\n",
       "       ...,\n",
       "       [709, 'France', 'Female', ..., 0, 1, 42085.58],\n",
       "       [772, 'Germany', 'Male', ..., 1, 0, 92888.52],\n",
       "       [792, 'France', 'Female', ..., 1, 0, 38190.78]], dtype=object)"
      ]
     },
     "execution_count": 4,
     "metadata": {},
     "output_type": "execute_result"
    }
   ],
   "source": [
    "x=dataset.iloc[:,3:13].values\n",
    "x"
   ]
  },
  {
   "cell_type": "code",
   "execution_count": 5,
   "metadata": {},
   "outputs": [
    {
     "data": {
      "text/plain": [
       "array([1, 0, 1, ..., 1, 1, 0], dtype=int64)"
      ]
     },
     "execution_count": 5,
     "metadata": {},
     "output_type": "execute_result"
    }
   ],
   "source": [
    "y=dataset.iloc[:,-1].values\n",
    "y"
   ]
  },
  {
   "cell_type": "code",
   "execution_count": null,
   "metadata": {},
   "outputs": [],
   "source": [
    "Column transformer accepts 2D arrays and label encoder accepts only 1D arrays"
   ]
  },
  {
   "cell_type": "code",
   "execution_count": 6,
   "metadata": {},
   "outputs": [],
   "source": [
    "from sklearn.compose import ColumnTransformer\n",
    "from sklearn.preprocessing import OneHotEncoder"
   ]
  },
  {
   "cell_type": "code",
   "execution_count": 7,
   "metadata": {},
   "outputs": [
    {
     "data": {
      "text/plain": [
       "array([[1.0, 0.0, 0.0, ..., 1, 1, 101348.88],\n",
       "       [0.0, 0.0, 1.0, ..., 0, 1, 112542.58],\n",
       "       [1.0, 0.0, 0.0, ..., 1, 0, 113931.57],\n",
       "       ...,\n",
       "       [1.0, 0.0, 0.0, ..., 0, 1, 42085.58],\n",
       "       [0.0, 1.0, 0.0, ..., 1, 0, 92888.52],\n",
       "       [1.0, 0.0, 0.0, ..., 1, 0, 38190.78]], dtype=object)"
      ]
     },
     "execution_count": 7,
     "metadata": {},
     "output_type": "execute_result"
    }
   ],
   "source": [
    "ct=ColumnTransformer([(\"on\",OneHotEncoder(),[1])],remainder=\"passthrough\")\n",
    "x=ct.fit_transform(x)\n",
    "x"
   ]
  },
  {
   "cell_type": "code",
   "execution_count": 9,
   "metadata": {},
   "outputs": [
    {
     "data": {
      "text/plain": [
       "array([[0.0, 0.0, 619, ..., 1, 1, 101348.88],\n",
       "       [0.0, 1.0, 608, ..., 0, 1, 112542.58],\n",
       "       [0.0, 0.0, 502, ..., 1, 0, 113931.57],\n",
       "       ...,\n",
       "       [0.0, 0.0, 709, ..., 0, 1, 42085.58],\n",
       "       [1.0, 0.0, 772, ..., 1, 0, 92888.52],\n",
       "       [0.0, 0.0, 792, ..., 1, 0, 38190.78]], dtype=object)"
      ]
     },
     "execution_count": 9,
     "metadata": {},
     "output_type": "execute_result"
    }
   ],
   "source": [
    "x=x[:,1:]\n",
    "x"
   ]
  },
  {
   "cell_type": "code",
   "execution_count": 10,
   "metadata": {},
   "outputs": [
    {
     "data": {
      "text/plain": [
       "(10000, 11)"
      ]
     },
     "execution_count": 10,
     "metadata": {},
     "output_type": "execute_result"
    }
   ],
   "source": [
    "x.shape"
   ]
  },
  {
   "cell_type": "code",
   "execution_count": 11,
   "metadata": {},
   "outputs": [
    {
     "data": {
      "text/plain": [
       "array([[0.0, 0.0, 619, ..., 1, 1, 101348.88],\n",
       "       [0.0, 1.0, 608, ..., 0, 1, 112542.58],\n",
       "       [0.0, 0.0, 502, ..., 1, 0, 113931.57],\n",
       "       ...,\n",
       "       [0.0, 0.0, 709, ..., 0, 1, 42085.58],\n",
       "       [1.0, 0.0, 772, ..., 1, 0, 92888.52],\n",
       "       [0.0, 0.0, 792, ..., 1, 0, 38190.78]], dtype=object)"
      ]
     },
     "execution_count": 11,
     "metadata": {},
     "output_type": "execute_result"
    }
   ],
   "source": [
    "from sklearn.preprocessing import LabelEncoder\n",
    "lb=LabelEncoder()\n",
    "x[:,3]=lb.fit_transform(x[:,3])\n",
    "x"
   ]
  },
  {
   "cell_type": "code",
   "execution_count": 12,
   "metadata": {},
   "outputs": [
    {
     "data": {
      "text/plain": [
       "array([0.0, 0.0, 619, 0, 42, 2, 0.0, 1, 1, 1, 101348.88], dtype=object)"
      ]
     },
     "execution_count": 12,
     "metadata": {},
     "output_type": "execute_result"
    }
   ],
   "source": [
    "x[0]"
   ]
  },
  {
   "cell_type": "code",
   "execution_count": 13,
   "metadata": {},
   "outputs": [
    {
     "data": {
      "text/plain": [
       "array([[-0.57873591, -0.57380915, -0.32622142, ...,  0.64609167,\n",
       "         0.97024255,  0.02188649],\n",
       "       [-0.57873591,  1.74273971, -0.44003595, ..., -1.54776799,\n",
       "         0.97024255,  0.21653375],\n",
       "       [-0.57873591, -0.57380915, -1.53679418, ...,  0.64609167,\n",
       "        -1.03067011,  0.2406869 ],\n",
       "       ...,\n",
       "       [-0.57873591, -0.57380915,  0.60498839, ..., -1.54776799,\n",
       "         0.97024255, -1.00864308],\n",
       "       [ 1.72790383, -0.57380915,  1.25683526, ...,  0.64609167,\n",
       "        -1.03067011, -0.12523071],\n",
       "       [-0.57873591, -0.57380915,  1.46377078, ...,  0.64609167,\n",
       "        -1.03067011, -1.07636976]])"
      ]
     },
     "execution_count": 13,
     "metadata": {},
     "output_type": "execute_result"
    }
   ],
   "source": [
    "from sklearn.preprocessing  import StandardScaler\n",
    "sc=StandardScaler()\n",
    "x=sc.fit_transform(x)\n",
    "x"
   ]
  },
  {
   "cell_type": "code",
   "execution_count": 15,
   "metadata": {},
   "outputs": [],
   "source": [
    "from sklearn.model_selection import train_test_split\n",
    "x_train,x_test,y_train,y_test=train_test_split(x,y,test_size=0.2,random_state=0)"
   ]
  },
  {
   "cell_type": "code",
   "execution_count": 16,
   "metadata": {
    "scrolled": true
   },
   "outputs": [
    {
     "data": {
      "text/plain": [
       "(8000, 11)"
      ]
     },
     "execution_count": 16,
     "metadata": {},
     "output_type": "execute_result"
    }
   ],
   "source": [
    "x_train.shape"
   ]
  },
  {
   "cell_type": "code",
   "execution_count": 17,
   "metadata": {},
   "outputs": [
    {
     "data": {
      "text/plain": [
       "2"
      ]
     },
     "execution_count": 17,
     "metadata": {},
     "output_type": "execute_result"
    }
   ],
   "source": [
    "x_train.ndim"
   ]
  },
  {
   "cell_type": "markdown",
   "metadata": {},
   "source": [
    "# Neural Network Starts"
   ]
  },
  {
   "cell_type": "code",
   "execution_count": null,
   "metadata": {},
   "outputs": [],
   "source": [
    "Step 1:Initializing the model"
   ]
  },
  {
   "cell_type": "code",
   "execution_count": 25,
   "metadata": {},
   "outputs": [],
   "source": [
    "from tensorflow.keras.models import Sequential #Used to initialize the model\n",
    "from tensorflow.keras.layers import Dense #Used to build layers"
   ]
  },
  {
   "cell_type": "code",
   "execution_count": 26,
   "metadata": {},
   "outputs": [],
   "source": [
    "model=Sequential() #creating an object from sequential"
   ]
  },
  {
   "cell_type": "code",
   "execution_count": null,
   "metadata": {},
   "outputs": [],
   "source": [
    "11 inputs #how many inputs, 2 layers formed"
   ]
  },
  {
   "cell_type": "code",
   "execution_count": 27,
   "metadata": {},
   "outputs": [],
   "source": [
    "#hidden layer 1\n",
    "model.add(Dense(input_dim=11,kernel_initializer='random_uniform',units=15,activation='relu')) #how many inputs, how many neurons, activation function"
   ]
  },
  {
   "cell_type": "code",
   "execution_count": 29,
   "metadata": {},
   "outputs": [],
   "source": [
    "#hidden layer 2\n",
    "model.add(Dense(units=9,kernel_initializer='random_uniform',activation='relu'))"
   ]
  },
  {
   "cell_type": "code",
   "execution_count": 30,
   "metadata": {},
   "outputs": [],
   "source": [
    "#output layer\n",
    "model.add(Dense(units=1,kernel_initializer='random_uniform',activation='sigmoid'))"
   ]
  },
  {
   "cell_type": "code",
   "execution_count": 31,
   "metadata": {},
   "outputs": [
    {
     "name": "stdout",
     "output_type": "stream",
     "text": [
      "Model: \"sequential\"\n",
      "_________________________________________________________________\n",
      "Layer (type)                 Output Shape              Param #   \n",
      "=================================================================\n",
      "dense (Dense)                (None, 15)                180       \n",
      "_________________________________________________________________\n",
      "dense_1 (Dense)              (None, 9)                 144       \n",
      "_________________________________________________________________\n",
      "dense_2 (Dense)              (None, 1)                 10        \n",
      "=================================================================\n",
      "Total params: 334\n",
      "Trainable params: 334\n",
      "Non-trainable params: 0\n",
      "_________________________________________________________________\n"
     ]
    }
   ],
   "source": [
    "model.summary()"
   ]
  },
  {
   "cell_type": "code",
   "execution_count": 32,
   "metadata": {},
   "outputs": [],
   "source": [
    "#compiling the layers, stochastic batch gradient\n",
    "model.compile(optimizer='adam',loss=\"binary_crossentropy\",metrics=['accuracy'])\n",
    "#if stochastic, use sgd\n",
    "#if categorical,use categorical_crossentropy\n",
    "#for regression, metrics=['mse']"
   ]
  },
  {
   "cell_type": "code",
   "execution_count": 33,
   "metadata": {},
   "outputs": [
    {
     "name": "stdout",
     "output_type": "stream",
     "text": [
      "Epoch 1/100\n",
      "250/250 [==============================] - 0s 790us/step - loss: 0.5450 - accuracy: 0.7941\n",
      "Epoch 2/100\n",
      "250/250 [==============================] - 0s 754us/step - loss: 0.4330 - accuracy: 0.7960\n",
      "Epoch 3/100\n",
      "250/250 [==============================] - 0s 762us/step - loss: 0.4263 - accuracy: 0.7961\n",
      "Epoch 4/100\n",
      "250/250 [==============================] - 0s 718us/step - loss: 0.4193 - accuracy: 0.8190\n",
      "Epoch 5/100\n",
      "250/250 [==============================] - 0s 705us/step - loss: 0.4132 - accuracy: 0.8298\n",
      "Epoch 6/100\n",
      "250/250 [==============================] - 0s 649us/step - loss: 0.4091 - accuracy: 0.8326\n",
      "Epoch 7/100\n",
      "250/250 [==============================] - 0s 682us/step - loss: 0.4056 - accuracy: 0.8346\n",
      "Epoch 8/100\n",
      "250/250 [==============================] - 0s 646us/step - loss: 0.4031 - accuracy: 0.8364\n",
      "Epoch 9/100\n",
      "250/250 [==============================] - 0s 678us/step - loss: 0.4012 - accuracy: 0.8374\n",
      "Epoch 10/100\n",
      "250/250 [==============================] - 0s 598us/step - loss: 0.3998 - accuracy: 0.8366\n",
      "Epoch 11/100\n",
      "250/250 [==============================] - 0s 1ms/step - loss: 0.3983 - accuracy: 0.8371\n",
      "Epoch 12/100\n",
      "250/250 [==============================] - 0s 762us/step - loss: 0.3974 - accuracy: 0.8376\n",
      "Epoch 13/100\n",
      "250/250 [==============================] - 0s 730us/step - loss: 0.3962 - accuracy: 0.8376\n",
      "Epoch 14/100\n",
      "250/250 [==============================] - 0s 702us/step - loss: 0.3947 - accuracy: 0.8374\n",
      "Epoch 15/100\n",
      "250/250 [==============================] - 0s 658us/step - loss: 0.3931 - accuracy: 0.8394\n",
      "Epoch 16/100\n",
      "250/250 [==============================] - 0s 698us/step - loss: 0.3903 - accuracy: 0.8395\n",
      "Epoch 17/100\n",
      "250/250 [==============================] - 0s 642us/step - loss: 0.3870 - accuracy: 0.8411\n",
      "Epoch 18/100\n",
      "250/250 [==============================] - 0s 590us/step - loss: 0.3819 - accuracy: 0.8434\n",
      "Epoch 19/100\n",
      "250/250 [==============================] - 0s 664us/step - loss: 0.3766 - accuracy: 0.8447\n",
      "Epoch 20/100\n",
      "250/250 [==============================] - 0s 706us/step - loss: 0.3715 - accuracy: 0.8453\n",
      "Epoch 21/100\n",
      "250/250 [==============================] - 0s 718us/step - loss: 0.3644 - accuracy: 0.8485\n",
      "Epoch 22/100\n",
      "250/250 [==============================] - 0s 686us/step - loss: 0.3602 - accuracy: 0.8514\n",
      "Epoch 23/100\n",
      "250/250 [==============================] - 0s 682us/step - loss: 0.3549 - accuracy: 0.8525\n",
      "Epoch 24/100\n",
      "250/250 [==============================] - 0s 610us/step - loss: 0.3524 - accuracy: 0.8551\n",
      "Epoch 25/100\n",
      "250/250 [==============================] - 0s 630us/step - loss: 0.3497 - accuracy: 0.8560\n",
      "Epoch 26/100\n",
      "250/250 [==============================] - 0s 634us/step - loss: 0.3478 - accuracy: 0.8577\n",
      "Epoch 27/100\n",
      "250/250 [==============================] - 0s 642us/step - loss: 0.3463 - accuracy: 0.8568\n",
      "Epoch 28/100\n",
      "250/250 [==============================] - 0s 674us/step - loss: 0.3458 - accuracy: 0.8572\n",
      "Epoch 29/100\n",
      "250/250 [==============================] - 0s 689us/step - loss: 0.3444 - accuracy: 0.8568\n",
      "Epoch 30/100\n",
      "250/250 [==============================] - 0s 618us/step - loss: 0.3429 - accuracy: 0.8590\n",
      "Epoch 31/100\n",
      "250/250 [==============================] - 0s 676us/step - loss: 0.3432 - accuracy: 0.8571\n",
      "Epoch 32/100\n",
      "250/250 [==============================] - 0s 702us/step - loss: 0.3433 - accuracy: 0.8584\n",
      "Epoch 33/100\n",
      "250/250 [==============================] - 0s 870us/step - loss: 0.3405 - accuracy: 0.8610\n",
      "Epoch 34/100\n",
      "250/250 [==============================] - 0s 634us/step - loss: 0.3398 - accuracy: 0.8577\n",
      "Epoch 35/100\n",
      "250/250 [==============================] - ETA: 0s - loss: 0.3369 - accuracy: 0.85 - 0s 666us/step - loss: 0.3394 - accuracy: 0.8593\n",
      "Epoch 36/100\n",
      "250/250 [==============================] - 0s 694us/step - loss: 0.3396 - accuracy: 0.8586\n",
      "Epoch 37/100\n",
      "250/250 [==============================] - 0s 644us/step - loss: 0.3385 - accuracy: 0.8584\n",
      "Epoch 38/100\n",
      "250/250 [==============================] - 0s 643us/step - loss: 0.3386 - accuracy: 0.8599\n",
      "Epoch 39/100\n",
      "250/250 [==============================] - 0s 674us/step - loss: 0.3376 - accuracy: 0.8602\n",
      "Epoch 40/100\n",
      "250/250 [==============================] - 0s 630us/step - loss: 0.3376 - accuracy: 0.8622\n",
      "Epoch 41/100\n",
      "250/250 [==============================] - 0s 698us/step - loss: 0.3368 - accuracy: 0.8619\n",
      "Epoch 42/100\n",
      "250/250 [==============================] - 0s 678us/step - loss: 0.3364 - accuracy: 0.8590\n",
      "Epoch 43/100\n",
      "250/250 [==============================] - 0s 594us/step - loss: 0.3362 - accuracy: 0.8629\n",
      "Epoch 44/100\n",
      "250/250 [==============================] - 0s 602us/step - loss: 0.3362 - accuracy: 0.8615\n",
      "Epoch 45/100\n",
      "250/250 [==============================] - 0s 638us/step - loss: 0.3354 - accuracy: 0.8630\n",
      "Epoch 46/100\n",
      "250/250 [==============================] - 0s 683us/step - loss: 0.3360 - accuracy: 0.8605\n",
      "Epoch 47/100\n",
      "250/250 [==============================] - 0s 681us/step - loss: 0.3346 - accuracy: 0.8611\n",
      "Epoch 48/100\n",
      "250/250 [==============================] - 0s 678us/step - loss: 0.3339 - accuracy: 0.8631\n",
      "Epoch 49/100\n",
      "250/250 [==============================] - 0s 730us/step - loss: 0.3336 - accuracy: 0.8606\n",
      "Epoch 50/100\n",
      "250/250 [==============================] - 0s 738us/step - loss: 0.3339 - accuracy: 0.8627\n",
      "Epoch 51/100\n",
      "250/250 [==============================] - 0s 710us/step - loss: 0.3338 - accuracy: 0.8637\n",
      "Epoch 52/100\n",
      "250/250 [==============================] - 0s 686us/step - loss: 0.3339 - accuracy: 0.8618\n",
      "Epoch 53/100\n",
      "250/250 [==============================] - 0s 583us/step - loss: 0.3329 - accuracy: 0.8622\n",
      "Epoch 54/100\n",
      "250/250 [==============================] - 0s 618us/step - loss: 0.3332 - accuracy: 0.8609\n",
      "Epoch 55/100\n",
      "250/250 [==============================] - 0s 635us/step - loss: 0.3320 - accuracy: 0.8604\n",
      "Epoch 56/100\n",
      "250/250 [==============================] - 0s 621us/step - loss: 0.3318 - accuracy: 0.8631\n",
      "Epoch 57/100\n",
      "250/250 [==============================] - 0s 658us/step - loss: 0.3328 - accuracy: 0.8601\n",
      "Epoch 58/100\n",
      "250/250 [==============================] - 0s 674us/step - loss: 0.3324 - accuracy: 0.8624\n",
      "Epoch 59/100\n",
      "250/250 [==============================] - 0s 642us/step - loss: 0.3305 - accuracy: 0.8635\n",
      "Epoch 60/100\n",
      "250/250 [==============================] - 0s 626us/step - loss: 0.3316 - accuracy: 0.8654\n",
      "Epoch 61/100\n",
      "250/250 [==============================] - 0s 650us/step - loss: 0.3308 - accuracy: 0.8634\n",
      "Epoch 62/100\n",
      "250/250 [==============================] - 0s 613us/step - loss: 0.3312 - accuracy: 0.8634\n",
      "Epoch 63/100\n",
      "250/250 [==============================] - 0s 634us/step - loss: 0.3314 - accuracy: 0.8621\n",
      "Epoch 64/100\n",
      "250/250 [==============================] - 0s 684us/step - loss: 0.3308 - accuracy: 0.8629\n",
      "Epoch 65/100\n",
      "250/250 [==============================] - 0s 672us/step - loss: 0.3309 - accuracy: 0.8637\n",
      "Epoch 66/100\n",
      "250/250 [==============================] - 0s 640us/step - loss: 0.3298 - accuracy: 0.8631\n",
      "Epoch 67/100\n",
      "250/250 [==============================] - 0s 646us/step - loss: 0.3298 - accuracy: 0.8644\n",
      "Epoch 68/100\n",
      "250/250 [==============================] - 0s 586us/step - loss: 0.3297 - accuracy: 0.8640\n",
      "Epoch 69/100\n",
      "250/250 [==============================] - 0s 730us/step - loss: 0.3300 - accuracy: 0.8629\n",
      "Epoch 70/100\n",
      "250/250 [==============================] - 0s 742us/step - loss: 0.3286 - accuracy: 0.8649\n",
      "Epoch 71/100\n",
      "250/250 [==============================] - 0s 646us/step - loss: 0.3295 - accuracy: 0.8652\n",
      "Epoch 72/100\n",
      "250/250 [==============================] - 0s 638us/step - loss: 0.3290 - accuracy: 0.8652\n",
      "Epoch 73/100\n",
      "250/250 [==============================] - 0s 645us/step - loss: 0.3296 - accuracy: 0.8655\n",
      "Epoch 74/100\n",
      "250/250 [==============================] - 0s 670us/step - loss: 0.3290 - accuracy: 0.8630\n",
      "Epoch 75/100\n",
      "250/250 [==============================] - 0s 694us/step - loss: 0.3287 - accuracy: 0.8634\n",
      "Epoch 76/100\n",
      "250/250 [==============================] - 0s 658us/step - loss: 0.3291 - accuracy: 0.8620\n",
      "Epoch 77/100\n",
      "250/250 [==============================] - 0s 594us/step - loss: 0.3283 - accuracy: 0.8635\n",
      "Epoch 78/100\n",
      "250/250 [==============================] - 0s 666us/step - loss: 0.3285 - accuracy: 0.8629\n",
      "Epoch 79/100\n"
     ]
    },
    {
     "name": "stdout",
     "output_type": "stream",
     "text": [
      "250/250 [==============================] - 0s 634us/step - loss: 0.3272 - accuracy: 0.8651\n",
      "Epoch 80/100\n",
      "250/250 [==============================] - 0s 626us/step - loss: 0.3290 - accuracy: 0.8633\n",
      "Epoch 81/100\n",
      "250/250 [==============================] - 0s 638us/step - loss: 0.3284 - accuracy: 0.8662\n",
      "Epoch 82/100\n",
      "250/250 [==============================] - 0s 625us/step - loss: 0.3275 - accuracy: 0.8655\n",
      "Epoch 83/100\n",
      "250/250 [==============================] - 0s 535us/step - loss: 0.3285 - accuracy: 0.8652\n",
      "Epoch 84/100\n",
      "250/250 [==============================] - 0s 650us/step - loss: 0.3289 - accuracy: 0.8635\n",
      "Epoch 85/100\n",
      "250/250 [==============================] - 0s 602us/step - loss: 0.3282 - accuracy: 0.8633\n",
      "Epoch 86/100\n",
      "250/250 [==============================] - 0s 590us/step - loss: 0.3273 - accuracy: 0.8621\n",
      "Epoch 87/100\n",
      "250/250 [==============================] - 0s 606us/step - loss: 0.3275 - accuracy: 0.8666\n",
      "Epoch 88/100\n",
      "250/250 [==============================] - 0s 598us/step - loss: 0.3270 - accuracy: 0.8633\n",
      "Epoch 89/100\n",
      "250/250 [==============================] - 0s 718us/step - loss: 0.3267 - accuracy: 0.8664\n",
      "Epoch 90/100\n",
      "250/250 [==============================] - 0s 725us/step - loss: 0.3277 - accuracy: 0.8634\n",
      "Epoch 91/100\n",
      "250/250 [==============================] - 0s 727us/step - loss: 0.3295 - accuracy: 0.8634\n",
      "Epoch 92/100\n",
      "250/250 [==============================] - 0s 720us/step - loss: 0.3271 - accuracy: 0.8640\n",
      "Epoch 93/100\n",
      "250/250 [==============================] - 0s 766us/step - loss: 0.3273 - accuracy: 0.8629\n",
      "Epoch 94/100\n",
      "250/250 [==============================] - 0s 734us/step - loss: 0.3267 - accuracy: 0.8651\n",
      "Epoch 95/100\n",
      "250/250 [==============================] - 0s 750us/step - loss: 0.3272 - accuracy: 0.8652\n",
      "Epoch 96/100\n",
      "250/250 [==============================] - 0s 693us/step - loss: 0.3272 - accuracy: 0.8640\n",
      "Epoch 97/100\n",
      "250/250 [==============================] - 0s 717us/step - loss: 0.3259 - accuracy: 0.8654\n",
      "Epoch 98/100\n",
      "250/250 [==============================] - 0s 769us/step - loss: 0.3277 - accuracy: 0.8627\n",
      "Epoch 99/100\n",
      "250/250 [==============================] - 0s 780us/step - loss: 0.3267 - accuracy: 0.8654\n",
      "Epoch 100/100\n",
      "250/250 [==============================] - 0s 742us/step - loss: 0.3256 - accuracy: 0.8654\n"
     ]
    },
    {
     "data": {
      "text/plain": [
       "<tensorflow.python.keras.callbacks.History at 0x282c1128ac0>"
      ]
     },
     "execution_count": 33,
     "metadata": {},
     "output_type": "execute_result"
    }
   ],
   "source": [
    "model.fit(x_train,y_train,epochs=100,batch_size=32) #batch size is in the power of 2"
   ]
  },
  {
   "cell_type": "code",
   "execution_count": 35,
   "metadata": {},
   "outputs": [
    {
     "data": {
      "text/plain": [
       "array([[0.29746974],\n",
       "       [0.32455498],\n",
       "       [0.2034863 ],\n",
       "       ...,\n",
       "       [0.11527732],\n",
       "       [0.25851315],\n",
       "       [0.22232157]], dtype=float32)"
      ]
     },
     "execution_count": 35,
     "metadata": {},
     "output_type": "execute_result"
    }
   ],
   "source": [
    "y_pred=model.predict(x_test)\n",
    "y_pred"
   ]
  },
  {
   "cell_type": "code",
   "execution_count": 37,
   "metadata": {},
   "outputs": [
    {
     "data": {
      "text/plain": [
       "array([[False],\n",
       "       [False],\n",
       "       [False],\n",
       "       ...,\n",
       "       [False],\n",
       "       [False],\n",
       "       [False]])"
      ]
     },
     "execution_count": 37,
     "metadata": {},
     "output_type": "execute_result"
    }
   ],
   "source": [
    "y_pred=(y_pred>=0.5)\n",
    "y_pred"
   ]
  },
  {
   "cell_type": "code",
   "execution_count": 38,
   "metadata": {},
   "outputs": [
    {
     "data": {
      "text/plain": [
       "array([[1483,  112],\n",
       "       [ 169,  236]], dtype=int64)"
      ]
     },
     "execution_count": 38,
     "metadata": {},
     "output_type": "execute_result"
    }
   ],
   "source": [
    "from sklearn.metrics import confusion_matrix\n",
    "confusion_matrix(y_test,y_pred)"
   ]
  },
  {
   "cell_type": "code",
   "execution_count": 39,
   "metadata": {},
   "outputs": [
    {
     "data": {
      "text/plain": [
       "0.7562483068230195"
      ]
     },
     "execution_count": 39,
     "metadata": {},
     "output_type": "execute_result"
    }
   ],
   "source": [
    "import sklearn.metrics as metrics\n",
    "fpr,tpr,threshold=metrics.roc_curve(y_test,y_pred)\n",
    "roc_auc=metrics.auc(fpr,tpr)\n",
    "roc_auc"
   ]
  },
  {
   "cell_type": "code",
   "execution_count": 40,
   "metadata": {},
   "outputs": [
    {
     "data": {
      "text/plain": [
       "0.8595"
      ]
     },
     "execution_count": 40,
     "metadata": {},
     "output_type": "execute_result"
    }
   ],
   "source": [
    "from sklearn.metrics import accuracy_score\n",
    "accuracy_score(y_test,y_pred)"
   ]
  },
  {
   "cell_type": "code",
   "execution_count": 41,
   "metadata": {},
   "outputs": [
    {
     "data": {
      "image/png": "[encoded data removed]",
      "text/plain": [
       "<Figure size 432x288 with 1 Axes>"
      ]
     },
     "metadata": {
      "needs_background": "light"
     },
     "output_type": "display_data"
    }
   ],
   "source": [
    "plt.plot(fpr,tpr,label='AUC=%0.2f'%roc_auc)\n",
    "plt.legend()\n",
    "plt.show()"
   ]
  },
  {
   "cell_type": "code",
   "execution_count": 42,
   "metadata": {},
   "outputs": [],
   "source": [
    "#epoch is for forward and backward propagation"
   ]
  }
 ],
 "metadata": {
  "kernelspec": {
   "display_name": "Python 3",
   "language": "python",
   "name": "python3"
  },
  "language_info": {
   "codemirror_mode": {
    "name": "ipython",
    "version": 3
   },
   "file_extension": ".py",
   "mimetype": "text/x-python",
   "name": "python",
   "nbconvert_exporter": "python",
   "pygments_lexer": "ipython3",
   "version": "3.8.3"
  }
 },
 "nbformat": 4,
 "nbformat_minor": 4
}
