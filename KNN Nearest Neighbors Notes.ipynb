{
 "cells": [
  {
   "cell_type": "code",
   "execution_count": 3,
   "metadata": {},
   "outputs": [],
   "source": [
    "#Algorithms used to find the closest neighbors\n",
    "#Testing time is more than training time\n",
    "#Find the k value\n",
    "#Euclidean distance->d=sqrt((x2-x1)^2+(y2-y1)^2)\n",
    "#Manhattan distance->d=sigma(i=1 to k)\n",
    "#Minowski distance->((x-y)^q)^(1/q)\n",
    "#Feature Scaling is an important step\n",
    "#Standardization->Standardization replaces the values by their Z scores\n",
    "#Mean Normalization->The distribution will have values between -1 and 1\n",
    "#Min-Max Scaling->Value between 0 and 1\n",
    "#Unit vector\n",
    "#Step 1: Choose the number K of neighbors\n",
    "#Step 2: Take the K nearest neighbors of the new datapoint\n",
    "#Among the K Neighbors, count the number of data points in each category\n",
    "#Assign the new data point, the category where you counted the most neighbors\n",
    "#KNN is a memory based algorithm"
   ]
  },
  {
   "cell_type": "code",
   "execution_count": null,
   "metadata": {},
   "outputs": [],
   "source": []
  }
 ],
 "metadata": {
  "kernelspec": {
   "display_name": "Python 3",
   "language": "python",
   "name": "python3"
  },
  "language_info": {
   "codemirror_mode": {
    "name": "ipython",
    "version": 3
   },
   "file_extension": ".py",
   "mimetype": "text/x-python",
   "name": "python",
   "nbconvert_exporter": "python",
   "pygments_lexer": "ipython3",
   "version": "3.8.3"
  }
 },
 "nbformat": 4,
 "nbformat_minor": 4
}
